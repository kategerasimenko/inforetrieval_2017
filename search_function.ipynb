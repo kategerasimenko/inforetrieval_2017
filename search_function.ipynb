{
 "cells": [
  {
   "cell_type": "code",
   "execution_count": 10,
   "metadata": {
    "collapsed": false
   },
   "outputs": [],
   "source": [
    "from IPython.display import HTML, display\n",
    "from nltk.tokenize import word_tokenize\n",
    "from pymorphy2 import MorphAnalyzer\n",
    "from collections import defaultdict\n",
    "from nltk.corpus import stopwords\n",
    "from math import log\n",
    "import string\n",
    "import json"
   ]
  },
  {
   "cell_type": "code",
   "execution_count": 4,
   "metadata": {
    "collapsed": true
   },
   "outputs": [],
   "source": [
    "def score_BM25(n, qf, N, dl, avdl):\n",
    "    k1 = 2.0\n",
    "    b = 0.75\n",
    "    K = compute_K(dl, avdl, k1, b)\n",
    "    IDF = log((N - n + 0.5) / (n + 0.5))\n",
    "    frac = ((k1 + 1) * qf) / (K + qf)\n",
    "    return IDF * frac\n",
    "\n",
    "\n",
    "def compute_K(dl, avdl, k1, b):\n",
    "    return k1 * ((1-b) + b * (float(dl)/float(avdl)))"
   ]
  },
  {
   "cell_type": "code",
   "execution_count": 5,
   "metadata": {
    "collapsed": true
   },
   "outputs": [],
   "source": [
    "def get_indices():\n",
    "    with open('inverted_index.json','r',encoding='utf-8-sig') as f:\n",
    "        inverted_index = json.loads(f.read())\n",
    "    with open('article_info.json','r',encoding='utf-8-sig') as f:\n",
    "        articles = json.loads(f.read())\n",
    "    with open('average_article_length.txt','r',encoding='utf-8-sig') as f:\n",
    "        avdl = float(f.read())\n",
    "    return inverted_index,articles,avdl"
   ]
  },
  {
   "cell_type": "code",
   "execution_count": 12,
   "metadata": {
    "collapsed": true
   },
   "outputs": [],
   "source": [
    "def search(query):\n",
    "    relevance = defaultdict(float)\n",
    "    m = MorphAnalyzer()\n",
    "    inverted_index,articles,avdl = get_indices()\n",
    "    N = len(articles)\n",
    "    words = [x.lower().strip(string.punctuation+'»«–…') for x in word_tokenize(query)]\n",
    "    lemmas = [m.parse(x)[0].normal_form for x in words\n",
    "              if x and x not in set(stopwords.words('russian'))]\n",
    "    for lemma in lemmas:\n",
    "        if lemma in inverted_index:\n",
    "            articles_w_lemma = inverted_index[lemma]\n",
    "            n = len(articles_w_lemma)\n",
    "            for a in articles_w_lemma:\n",
    "                a_info = articles[a[0]]\n",
    "                qf = a[1]\n",
    "                dl = a_info[2]\n",
    "                relevance[(a_info[0],a_info[1])] += score_BM25(n, qf, N, dl, avdl)\n",
    "    res = sorted(relevance.items(),key=lambda x: x[1],reverse=True)\n",
    "    res = [x[0] for x in res]\n",
    "    return res"
   ]
  },
  {
   "cell_type": "code",
   "execution_count": 16,
   "metadata": {
    "collapsed": false,
    "scrolled": true
   },
   "outputs": [
    {
     "data": {
      "text/html": [
       "<a href=\"https://hron.ru/news/read/52882\">С понедельника стартует заявочная кампания на летний отдых детей в следующем году</a>"
      ],
      "text/plain": [
       "<IPython.core.display.HTML object>"
      ]
     },
     "metadata": {},
     "output_type": "display_data"
    },
    {
     "data": {
      "text/html": [
       "<a href=\"https://hron.ru/news/read/52655\">Студенты развлекут школьников</a>"
      ],
      "text/plain": [
       "<IPython.core.display.HTML object>"
      ]
     },
     "metadata": {},
     "output_type": "display_data"
    },
    {
     "data": {
      "text/html": [
       "<a href=\"https://hron.ru/news/read/52574\">Из-за детской шалости сгорели три квартиры</a>"
      ],
      "text/plain": [
       "<IPython.core.display.HTML object>"
      ]
     },
     "metadata": {},
     "output_type": "display_data"
    },
    {
     "data": {
      "text/html": [
       "<a href=\"https://hron.ru/news/read/52810\">Ремонт в темпе спорта. Зал «Зенита» обновят к учебному году</a>"
      ],
      "text/plain": [
       "<IPython.core.display.HTML object>"
      ]
     },
     "metadata": {},
     "output_type": "display_data"
    },
    {
     "data": {
      "text/html": [
       "<a href=\"https://hron.ru/news/read/53010\">На Биофабрике пробурят скважину</a>"
      ],
      "text/plain": [
       "<IPython.core.display.HTML object>"
      ]
     },
     "metadata": {},
     "output_type": "display_data"
    },
    {
     "data": {
      "text/html": [
       "<a href=\"https://hron.ru/news/read/53145\">Островок солнечного детства на Макаренко</a>"
      ],
      "text/plain": [
       "<IPython.core.display.HTML object>"
      ]
     },
     "metadata": {},
     "output_type": "display_data"
    },
    {
     "data": {
      "text/html": [
       "<a href=\"https://hron.ru/news/read/52976\">Легенда в другом свете</a>"
      ],
      "text/plain": [
       "<IPython.core.display.HTML object>"
      ]
     },
     "metadata": {},
     "output_type": "display_data"
    },
    {
     "data": {
      "text/html": [
       "<a href=\"https://hron.ru/news/read/52895\">Новая Биофабрика обзавелась павильоном</a>"
      ],
      "text/plain": [
       "<IPython.core.display.HTML object>"
      ]
     },
     "metadata": {},
     "output_type": "display_data"
    },
    {
     "data": {
      "text/html": [
       "<a href=\"https://hron.ru/news/read/52463\">Глава привез с форума идею</a>"
      ],
      "text/plain": [
       "<IPython.core.display.HTML object>"
      ]
     },
     "metadata": {},
     "output_type": "display_data"
    },
    {
     "data": {
      "text/html": [
       "<a href=\"https://hron.ru/news/read/52568\">Наш начфин вышел на всероссийский уровень</a>"
      ],
      "text/plain": [
       "<IPython.core.display.HTML object>"
      ]
     },
     "metadata": {},
     "output_type": "display_data"
    }
   ],
   "source": [
    "results = search('каникулы на новый год и рождество')\n",
    "for r in results[:10]:\n",
    "    display(HTML('<a href=\"{}\">{}</a>'.format(r[0],r[1])))"
   ]
  }
 ],
 "metadata": {
  "kernelspec": {
   "display_name": "Python [default]",
   "language": "python",
   "name": "python3"
  },
  "language_info": {
   "codemirror_mode": {
    "name": "ipython",
    "version": 3
   },
   "file_extension": ".py",
   "mimetype": "text/x-python",
   "name": "python",
   "nbconvert_exporter": "python",
   "pygments_lexer": "ipython3",
   "version": "3.5.2"
  }
 },
 "nbformat": 4,
 "nbformat_minor": 1
}
